{
 "cells": [
  {
   "cell_type": "code",
   "execution_count": 1,
   "metadata": {
    "colab": {
     "base_uri": "https://localhost:8080/",
     "height": 51
    },
    "colab_type": "code",
    "executionInfo": {
     "elapsed": 3806,
     "status": "ok",
     "timestamp": 1588554520966,
     "user": {
      "displayName": "Agustin Silva",
      "photoUrl": "https://lh3.googleusercontent.com/a-/AOh14GhgpjJZgyA4TkTu5mXdEC-5weN-lfBTLa4rLTNm6g=s64",
      "userId": "15990170622455663972"
     },
     "user_tz": 180
    },
    "id": "WXlJvgfDLn5q",
    "outputId": "d8d9b9fe-8088-415e-ad71-4f472dd6b4ea"
   },
   "outputs": [
    {
     "name": "stdout",
     "output_type": "stream",
     "text": [
      "Requirement already satisfied: deap in /usr/local/lib/python3.6/dist-packages (1.3.1)\n",
      "Requirement already satisfied: numpy in /usr/local/lib/python3.6/dist-packages (from deap) (1.18.3)\n"
     ]
    }
   ],
   "source": [
    "!pip install deap"
   ]
  },
  {
   "cell_type": "code",
   "execution_count": 1,
   "metadata": {
    "colab": {
     "base_uri": "https://localhost:8080/",
     "height": 71
    },
    "colab_type": "code",
    "executionInfo": {
     "elapsed": 4106,
     "status": "ok",
     "timestamp": 1588554521300,
     "user": {
      "displayName": "Agustin Silva",
      "photoUrl": "https://lh3.googleusercontent.com/a-/AOh14GhgpjJZgyA4TkTu5mXdEC-5weN-lfBTLa4rLTNm6g=s64",
      "userId": "15990170622455663972"
     },
     "user_tz": 180
    },
    "id": "sPJxtOKlN9hz",
    "outputId": "0cf82eac-044e-47ac-84bb-1dba8b74e133"
   },
   "outputs": [],
   "source": [
    "from deap import base\n",
    "from deap import creator\n",
    "from deap import tools\n",
    "\n",
    "import random\n",
    "import numpy as np\n",
    "import matplotlib.pyplot as plt\n",
    "import seaborn as sns\n",
    "import elitism"
   ]
  },
  {
   "cell_type": "code",
   "execution_count": 2,
   "metadata": {
    "colab": {},
    "colab_type": "code",
    "id": "QI6QZWaXODbc"
   },
   "outputs": [],
   "source": [
    "RANDOM_SEED = 42\n",
    "random.seed(RANDOM_SEED)\n",
    "\n",
    "DIMENSIONS = 2 \n",
    "BOUND_LOW, BOUND_UP = -512.0, 512.0\n",
    "POPULATION_SIZE = 300\n",
    "P_CROSSOVER = 0.9\n",
    "P_MUTATION = 0.1 \n",
    "MAX_GENERATIONS = 300\n",
    "HALL_OF_FAME_SIZE = 30\n",
    "CROWDING_FACTOR = 20.0 "
   ]
  },
  {
   "cell_type": "code",
   "execution_count": 3,
   "metadata": {
    "colab": {},
    "colab_type": "code",
    "id": "m5-mLDDFOTOw"
   },
   "outputs": [],
   "source": [
    "def eggholder(individual):\n",
    "    x = individual[0]\n",
    "    y = individual[1]\n",
    "    f = (-(y + 47.0) * np.sin(np.sqrt(abs(x/2.0 + (y + 47.0)))) - x * np.sin(np.sqrt(abs(x - (y + 47.0)))))\n",
    "    return f,  # return a tuple\n",
    "\n",
    "def randomFloat(low, up):\n",
    "    return [random.uniform(l, u) for l, u in zip([low] * DIMENSIONS, [up] * DIMENSIONS)]\n",
    "\n",
    "toolbox = base.Toolbox()\n",
    "creator.create(\"FitnessMin\", base.Fitness, weights=(-1.0,))\n",
    "creator.create(\"Individual\", list, fitness=creator.FitnessMin)\n",
    "\n",
    "toolbox.register(\"attrFloat\", randomFloat, BOUND_LOW, BOUND_UP)\n",
    "toolbox.register(\"individualCreator\", tools.initIterate, creator.Individual, toolbox.attrFloat)\n",
    "toolbox.register(\"populationCreator\", tools.initRepeat, list, toolbox.individualCreator)\n",
    "toolbox.register(\"evaluate\", eggholder)\n",
    "toolbox.register(\"select\", tools.selTournament, tournsize=2)\n",
    "toolbox.register(\"mate\", tools.cxSimulatedBinaryBounded, low=BOUND_LOW, up=BOUND_UP, eta=CROWDING_FACTOR)\n",
    "toolbox.register(\"mutate\", tools.mutPolynomialBounded, low=BOUND_LOW, up=BOUND_UP, eta=CROWDING_FACTOR, indpb=1.0/DIMENSIONS)"
   ]
  },
  {
   "cell_type": "code",
   "execution_count": 4,
   "metadata": {
    "colab": {},
    "colab_type": "code",
    "id": "2sQn5uXGLhia"
   },
   "outputs": [],
   "source": [
    "population = toolbox.populationCreator(n=POPULATION_SIZE)\n",
    "stats = tools.Statistics(lambda ind: ind.fitness.values)\n",
    "stats.register(\"min\", np.min)\n",
    "stats.register(\"avg\", np.mean)\n",
    "hof = tools.HallOfFame(HALL_OF_FAME_SIZE)\n",
    "population, logbook = elitism.eaSimpleWithElitism(population, toolbox, cxpb=P_CROSSOVER, mutpb=P_MUTATION,\n",
    "                                          ngen=MAX_GENERATIONS, stats=stats, halloffame=hof, verbose=False)\n",
    "minFitnessValues, meanFitnessValues = logbook.select(\"min\", \"avg\")"
   ]
  },
  {
   "cell_type": "code",
   "execution_count": 5,
   "metadata": {
    "colab": {
     "base_uri": "https://localhost:8080/",
     "height": 51
    },
    "colab_type": "code",
    "executionInfo": {
     "elapsed": 7121,
     "status": "ok",
     "timestamp": 1588554524369,
     "user": {
      "displayName": "Agustin Silva",
      "photoUrl": "https://lh3.googleusercontent.com/a-/AOh14GhgpjJZgyA4TkTu5mXdEC-5weN-lfBTLa4rLTNm6g=s64",
      "userId": "15990170622455663972"
     },
     "user_tz": 180
    },
    "id": "QpG8a-jOOfmm",
    "outputId": "d4fbf03f-b3e1-43ae-f208-facc0698082c"
   },
   "outputs": [
    {
     "name": "stdout",
     "output_type": "stream",
     "text": [
      "-- Best Individual =  [512.0, 404.2315520362642]\n",
      "-- Best Fitness =  -959.6406626480391\n"
     ]
    }
   ],
   "source": [
    "best = hof.items[0]\n",
    "print(\"-- Best Individual = \", best)\n",
    "print(\"-- Best Fitness = \", best.fitness.values[0])"
   ]
  },
  {
   "cell_type": "code",
   "execution_count": 6,
   "metadata": {
    "colab": {
     "base_uri": "https://localhost:8080/",
     "height": 295
    },
    "colab_type": "code",
    "executionInfo": {
     "elapsed": 7118,
     "status": "ok",
     "timestamp": 1588554524371,
     "user": {
      "displayName": "Agustin Silva",
      "photoUrl": "https://lh3.googleusercontent.com/a-/AOh14GhgpjJZgyA4TkTu5mXdEC-5weN-lfBTLa4rLTNm6g=s64",
      "userId": "15990170622455663972"
     },
     "user_tz": 180
    },
    "id": "LPv0g5UwOeIu",
    "outputId": "eca991cb-36ca-4731-e340-006e3b961845"
   },
   "outputs": [
    {
     "data": {
      "image/png": "[encoded data removed]",
      "text/plain": [
       "<Figure size 432x288 with 1 Axes>"
      ]
     },
     "metadata": {},
     "output_type": "display_data"
    }
   ],
   "source": [
    "sns.set_style(\"whitegrid\")\n",
    "plt.plot(minFitnessValues, color='red')\n",
    "plt.plot(meanFitnessValues, color='green')\n",
    "plt.xlabel('Generation')\n",
    "plt.ylabel('Min / Average Fitness')\n",
    "plt.title('Min and Average fitness over Generations')\n",
    "\n",
    "plt.show()"
   ]
  },
  {
   "cell_type": "code",
   "execution_count": null,
   "metadata": {},
   "outputs": [],
   "source": []
  }
 ],
 "metadata": {
  "colab": {
   "authorship_tag": "ABX9TyP6TyT8YvCs+j4IN2yhVFJr",
   "name": "ga_python_8.ipynb",
   "provenance": []
  },
  "kernelspec": {
   "display_name": "Python 3 (ipykernel)",
   "language": "python",
   "name": "python3"
  },
  "language_info": {
   "codemirror_mode": {
    "name": "ipython",
    "version": 3
   },
   "file_extension": ".py",
   "mimetype": "text/x-python",
   "name": "python",
   "nbconvert_exporter": "python",
   "pygments_lexer": "ipython3",
   "version": "3.9.7"
  }
 },
 "nbformat": 4,
 "nbformat_minor": 1
}
