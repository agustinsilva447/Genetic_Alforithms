{
 "cells": [
  {
   "cell_type": "code",
   "execution_count": 1,
   "metadata": {
    "colab": {
     "base_uri": "https://localhost:8080/",
     "height": 51
    },
    "colab_type": "code",
    "executionInfo": {
     "elapsed": 4265,
     "status": "ok",
     "timestamp": 1588561068594,
     "user": {
      "displayName": "Agustin Silva",
      "photoUrl": "https://lh3.googleusercontent.com/a-/AOh14GhgpjJZgyA4TkTu5mXdEC-5weN-lfBTLa4rLTNm6g=s64",
      "userId": "15990170622455663972"
     },
     "user_tz": 180
    },
    "id": "U6BLow4NTG8i",
    "outputId": "e9816fdf-6efa-4223-ba2a-b59e18d33d6f"
   },
   "outputs": [
    {
     "name": "stdout",
     "output_type": "stream",
     "text": [
      "Requirement already satisfied: deap in /usr/local/lib/python3.6/dist-packages (1.3.1)\n",
      "Requirement already satisfied: numpy in /usr/local/lib/python3.6/dist-packages (from deap) (1.18.3)\n"
     ]
    }
   ],
   "source": [
    "!pip install deap"
   ]
  },
  {
   "cell_type": "code",
   "execution_count": 2,
   "metadata": {
    "colab": {
     "base_uri": "https://localhost:8080/",
     "height": 71
    },
    "colab_type": "code",
    "executionInfo": {
     "elapsed": 4243,
     "status": "ok",
     "timestamp": 1588561068600,
     "user": {
      "displayName": "Agustin Silva",
      "photoUrl": "https://lh3.googleusercontent.com/a-/AOh14GhgpjJZgyA4TkTu5mXdEC-5weN-lfBTLa4rLTNm6g=s64",
      "userId": "15990170622455663972"
     },
     "user_tz": 180
    },
    "id": "J0fNj0Ntmtk0",
    "outputId": "ec527c9e-e0aa-48bc-abed-632b91eec298"
   },
   "outputs": [
    {
     "name": "stderr",
     "output_type": "stream",
     "text": [
      "/usr/local/lib/python3.6/dist-packages/statsmodels/tools/_testing.py:19: FutureWarning: pandas.util.testing is deprecated. Use the functions in the public API at pandas.testing instead.\n",
      "  import pandas.util.testing as tm\n"
     ]
    }
   ],
   "source": [
    "from deap import base\n",
    "from deap import creator\n",
    "from deap import tools\n",
    "\n",
    "import random\n",
    "import numpy as np\n",
    "import matplotlib.pyplot as plt\n",
    "import seaborn as sns\n",
    "import math\n",
    "import elitism"
   ]
  },
  {
   "cell_type": "code",
   "execution_count": 0,
   "metadata": {
    "colab": {},
    "colab_type": "code",
    "id": "Om_ajN4Kmzy6"
   },
   "outputs": [],
   "source": [
    "RANDOM_SEED = 42\n",
    "random.seed(RANDOM_SEED)\n",
    "\n",
    "DIMENSIONS = 2 \n",
    "BOUND_LOW, BOUND_UP = -5.0, 5.0\n",
    "POPULATION_SIZE = 300\n",
    "P_CROSSOVER = 0.9 \n",
    "P_MUTATION = 0.5  \n",
    "MAX_GENERATIONS = 300\n",
    "HALL_OF_FAME_SIZE = 30\n",
    "CROWDING_FACTOR = 20.0 \n",
    "DISTANCE_THRESHOLD = 0.1\n",
    "SHARING_EXTENT = 5.0"
   ]
  },
  {
   "cell_type": "code",
   "execution_count": 0,
   "metadata": {
    "colab": {},
    "colab_type": "code",
    "id": "bjC5SpxxnDLl"
   },
   "outputs": [],
   "source": [
    "def himmelblauInverted(individual):\n",
    "    x = individual[0]\n",
    "    y = individual[1]\n",
    "    f = (x ** 2 + y - 11) ** 2 + (x + y ** 2 - 7) ** 2\n",
    "    return 2000.0 - f, \n",
    "\n",
    "def randomFloat(low, up):\n",
    "    return [random.uniform(a, b) for a, b in zip([low] * DIMENSIONS, [up] * DIMENSIONS)]\n",
    "\n",
    "toolbox = base.Toolbox()\n",
    "creator.create(\"FitnessMax\", base.Fitness, weights=(1.0,))\n",
    "creator.create(\"Individual\", list, fitness=creator.FitnessMax)\n",
    "\n",
    "toolbox.register(\"attr_float\", randomFloat, BOUND_LOW, BOUND_UP)\n",
    "toolbox.register(\"individualCreator\", tools.initIterate, creator.Individual, toolbox.attr_float)\n",
    "toolbox.register(\"populationCreator\", tools.initRepeat, list, toolbox.individualCreator)\n",
    "toolbox.register(\"evaluate\", himmelblauInverted)\n",
    "toolbox.register(\"mate\", tools.cxSimulatedBinaryBounded, low=BOUND_LOW, up=BOUND_UP, eta=CROWDING_FACTOR)\n",
    "toolbox.register(\"mutate\", tools.mutPolynomialBounded, low=BOUND_LOW, up=BOUND_UP, eta=CROWDING_FACTOR, indpb=1.0/DIMENSIONS)"
   ]
  },
  {
   "cell_type": "code",
   "execution_count": 0,
   "metadata": {
    "colab": {},
    "colab_type": "code",
    "id": "yHzKoOXmnRTG"
   },
   "outputs": [],
   "source": [
    "def selTournamentWithSharing(individuals, k, tournsize, fit_attr=\"fitness\"):\n",
    "    origFitnesses = [ind.fitness.values[0] for ind in individuals]\n",
    "    for i in range(len(individuals)):\n",
    "        sharingSum = 1\n",
    "        for j in range(len(individuals)):\n",
    "            if i != j:\n",
    "                distance = math.sqrt(((individuals[i][0] - individuals[j][0]) ** 2) + ((individuals[i][1] - individuals[j][1]) ** 2))\n",
    "                if distance < DISTANCE_THRESHOLD:\n",
    "                    sharingSum += (1 - distance / (SHARING_EXTENT * DISTANCE_THRESHOLD))\n",
    "        individuals[i].fitness.values = origFitnesses[i] / sharingSum,\n",
    "    selected = tools.selTournament(individuals, k, tournsize, fit_attr)\n",
    "    for i, ind in enumerate(individuals):\n",
    "        ind.fitness.values = origFitnesses[i],\n",
    "    return selected\n",
    "\n",
    "toolbox.register(\"select\", selTournamentWithSharing, tournsize=2)"
   ]
  },
  {
   "cell_type": "code",
   "execution_count": 0,
   "metadata": {
    "colab": {},
    "colab_type": "code",
    "id": "RkVSp19umfnP"
   },
   "outputs": [],
   "source": [
    "population = toolbox.populationCreator(n=POPULATION_SIZE)\n",
    "stats = tools.Statistics(lambda ind: ind.fitness.values)\n",
    "stats.register(\"max\", np.max)\n",
    "stats.register(\"avg\", np.mean)\n",
    "hof = tools.HallOfFame(HALL_OF_FAME_SIZE)\n",
    "population, logbook = elitism.eaSimpleWithElitism(population, toolbox, cxpb=P_CROSSOVER, mutpb=P_MUTATION,\n",
    "                                          ngen=MAX_GENERATIONS, stats=stats, halloffame=hof, verbose=False)\n",
    "maxFitnessValues, meanFitnessValues = logbook.select(\"max\", \"avg\")"
   ]
  },
  {
   "cell_type": "code",
   "execution_count": 7,
   "metadata": {
    "colab": {
     "base_uri": "https://localhost:8080/",
     "height": 578
    },
    "colab_type": "code",
    "executionInfo": {
     "elapsed": 28084,
     "status": "ok",
     "timestamp": 1588561092491,
     "user": {
      "displayName": "Agustin Silva",
      "photoUrl": "https://lh3.googleusercontent.com/a-/AOh14GhgpjJZgyA4TkTu5mXdEC-5weN-lfBTLa4rLTNm6g=s64",
      "userId": "15990170622455663972"
     },
     "user_tz": 180
    },
    "id": "weevpA0snebR",
    "outputId": "ec118d6b-5d41-44f1-f682-b6f55e7e662c"
   },
   "outputs": [
    {
     "name": "stdout",
     "output_type": "stream",
     "text": [
      "-- Best Individual =  [3.001612371389449, 1.9958270919300913]\n",
      "-- Best Fitness =  1999.9997428476076\n",
      "- Best solutions are:\n",
      "0 :  1999.9997428476076  ->  [3.001612371389449, 1.9958270919300913]\n",
      "1 :  1999.9995532774788  ->  [3.5855066080496947, -1.8432407550446581]\n",
      "2 :  1999.9988186889173  ->  [3.5855066080496947, -1.8396197402430106]\n",
      "3 :  1999.9987642838498  ->  [-3.7758887140006174, -3.2858043455406367]\n",
      "4 :  1999.9986563457114  ->  [-2.8072634380293766, 3.125893564009283]\n",
      "5 :  1999.9986041717466  ->  [2.994996723403235, 1.9969095906576606]\n",
      "6 :  1999.9984781347296  ->  [-3.7758887140006174, -3.2865929477968665]\n",
      "7 :  1999.998183039951  ->  [3.002584526988128, 1.9887182479605638]\n",
      "8 :  1999.9977631768973  ->  [-2.8134037927300475, 3.131648296170921]\n",
      "9 :  1999.997575148785  ->  [2.9929626808487773, 1.9969095906576606]\n",
      "10 :  1999.997357526559  ->  [-3.7836524052424725, -3.2784944170067725]\n",
      "11 :  1999.9967191974722  ->  [3.002584526988128, 1.984978412500066]\n",
      "12 :  1999.9965015373687  ->  [-3.7758887140006174, -3.2740097495009586]\n",
      "13 :  1999.9962546878492  ->  [-3.7836524052424725, -3.276699727801961]\n",
      "14 :  1999.9960047913273  ->  [3.0041543184731654, 1.9832215110750049]\n",
      "15 :  1999.9959650903231  ->  [3.5764734725338276, -1.8389268636893858]\n",
      "16 :  1999.9958485029426  ->  [3.0113952944216384, 1.9956529440390212]\n",
      "17 :  1999.9958037403092  ->  [-2.8134037927300475, 3.138421416525262]\n",
      "18 :  1999.9955679433144  ->  [3.011577483310753, 1.9969727049693808]\n",
      "19 :  1999.9955201658709  ->  [-2.8150770882393985, 3.125893564009283]\n",
      "20 :  1999.9945825944897  ->  [-2.8034140680901345, 3.119760103397938]\n",
      "21 :  1999.994541638767  ->  [2.9928704372909736, 1.989058665162832]\n",
      "22 :  1999.9944703022825  ->  [-2.8072634380293766, 3.119760103397938]\n",
      "23 :  1999.9943375904743  ->  [-2.8080073292249974, 3.119760103397938]\n",
      "24 :  1999.9942313466163  ->  [-3.7839981775897114, -3.2744780844182295]\n",
      "25 :  1999.9938882116498  ->  [-2.8000299644229902, 3.119760103397938]\n",
      "26 :  1999.993860667051  ->  [3.5855066080496947, -1.8279194784346149]\n",
      "27 :  1999.9938265970718  ->  [-2.813249891412572, 3.141426924604424]\n",
      "28 :  1999.993823934265  ->  [-2.809941282926521, 3.119760103397938]\n",
      "29 :  1999.993698362676  ->  [3.582334333642025, -1.8678936251244889]\n"
     ]
    }
   ],
   "source": [
    "best = hof.items[0]\n",
    "print(\"-- Best Individual = \", best)\n",
    "print(\"-- Best Fitness = \", best.fitness.values[0])\n",
    "\n",
    "print(\"- Best solutions are:\")\n",
    "for i in range(HALL_OF_FAME_SIZE):\n",
    "    print(i, \": \", hof.items[i].fitness.values[0], \" -> \", hof.items[i])"
   ]
  },
  {
   "cell_type": "code",
   "execution_count": 8,
   "metadata": {
    "colab": {
     "base_uri": "https://localhost:8080/",
     "height": 791
    },
    "colab_type": "code",
    "executionInfo": {
     "elapsed": 28847,
     "status": "ok",
     "timestamp": 1588561093260,
     "user": {
      "displayName": "Agustin Silva",
      "photoUrl": "https://lh3.googleusercontent.com/a-/AOh14GhgpjJZgyA4TkTu5mXdEC-5weN-lfBTLa4rLTNm6g=s64",
      "userId": "15990170622455663972"
     },
     "user_tz": 180
    },
    "id": "V3whxSNtmjF3",
    "outputId": "32d9e4e4-b1af-4634-da90-0d025844be00"
   },
   "outputs": [
    {
     "data": {
      "image/png": "[encoded data removed]",
      "text/plain": [
       "<Figure size 432x288 with 1 Axes>"
      ]
     },
     "metadata": {
      "needs_background": "light",
      "tags": []
     },
     "output_type": "display_data"
    },
    {
     "data": {
      "image/png": "[encoded data removed]",
      "text/plain": [
       "<Figure size 432x288 with 1 Axes>"
      ]
     },
     "metadata": {
      "needs_background": "light",
      "tags": []
     },
     "output_type": "display_data"
    },
    {
     "data": {
      "image/png": "[encoded data removed]",
      "text/plain": [
       "<Figure size 432x288 with 1 Axes>"
      ]
     },
     "metadata": {
      "needs_background": "light",
      "tags": []
     },
     "output_type": "display_data"
    }
   ],
   "source": [
    "plt.figure(1)\n",
    "globalMaxima = [[3.0, 2.0], [-2.805118, 3.131312], [-3.779310, -3.283186], [3.584458, -1.848126]]\n",
    "plt.scatter(*zip(*globalMaxima), marker='x', color='red', zorder=1)\n",
    "plt.scatter(*zip(*population), marker='.', color='blue', zorder=0)    # plot solution locations on x-y plane:\n",
    "\n",
    "plt.figure(2)\n",
    "plt.scatter(*zip(*globalMaxima), marker='x', color='red', zorder=1)\n",
    "plt.scatter(*zip(*hof.items), marker='.', color='blue', zorder=0)\n",
    "\n",
    "plt.figure(3)\n",
    "sns.set_style(\"whitegrid\")\n",
    "plt.plot(maxFitnessValues, color='red')\n",
    "plt.plot(meanFitnessValues, color='green')\n",
    "plt.xlabel('Generation')\n",
    "plt.ylabel('Max / Average Fitness')\n",
    "plt.title('Max and Average fitness over Generations')\n",
    "\n",
    "plt.show()"
   ]
  }
 ],
 "metadata": {
  "colab": {
   "authorship_tag": "ABX9TyNxp8sqgv4b5W/SPvRIuw+7",
   "name": "ga_python_9.ipynb",
   "provenance": []
  },
  "kernelspec": {
   "display_name": "Python 3 (ipykernel)",
   "language": "python",
   "name": "python3"
  },
  "language_info": {
   "codemirror_mode": {
    "name": "ipython",
    "version": 3
   },
   "file_extension": ".py",
   "mimetype": "text/x-python",
   "name": "python",
   "nbconvert_exporter": "python",
   "pygments_lexer": "ipython3",
   "version": "3.9.7"
  }
 },
 "nbformat": 4,
 "nbformat_minor": 1
}
