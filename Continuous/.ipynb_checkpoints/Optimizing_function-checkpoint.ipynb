{
 "cells": [
  {
   "cell_type": "code",
   "execution_count": 1,
   "metadata": {
    "colab": {},
    "colab_type": "code",
    "id": "PYomrANbnGSG"
   },
   "outputs": [],
   "source": [
    "import random\n",
    "import math"
   ]
  },
  {
   "cell_type": "code",
   "execution_count": 2,
   "metadata": {
    "colab": {},
    "colab_type": "code",
    "id": "0S3Fqc7NrV6s"
   },
   "outputs": [],
   "source": [
    "def generate_population(size, x_boundaries, y_boundaries):\n",
    "    lower_x_boundary, upper_x_boundary = x_boundaries\n",
    "    lower_y_boundary, upper_y_boundary = y_boundaries\n",
    "\n",
    "    population = []\n",
    "    for i in range(size):\n",
    "        individual = {\n",
    "            \"x\": random.uniform(lower_x_boundary, upper_x_boundary),\n",
    "            \"y\": random.uniform(lower_y_boundary, upper_y_boundary),\n",
    "        }\n",
    "        population.append(individual)\n",
    "\n",
    "    return population"
   ]
  },
  {
   "cell_type": "code",
   "execution_count": 3,
   "metadata": {
    "colab": {},
    "colab_type": "code",
    "id": "S8Nqq5q2ratS"
   },
   "outputs": [],
   "source": [
    "def apply_function(individual):\n",
    "    x = individual[\"x\"]\n",
    "    y = individual[\"y\"]\n",
    "    return  25 - math.sqrt(x ** 2 + y ** 2)"
   ]
  },
  {
   "cell_type": "code",
   "execution_count": 4,
   "metadata": {
    "colab": {},
    "colab_type": "code",
    "id": "b9iKXl-qrlpH"
   },
   "outputs": [],
   "source": [
    "def choice_by_roulette(sorted_population, fitness_sum):\n",
    "    offset = 0\n",
    "    normalized_fitness_sum = fitness_sum\n",
    "\n",
    "    lowest_fitness = apply_function(sorted_population[0])\n",
    "    if lowest_fitness < 0:\n",
    "        offset = -lowest_fitness\n",
    "        normalized_fitness_sum += offset * len(sorted_population)\n",
    "\n",
    "    draw = random.uniform(0, 1)\n",
    "    accumulated = 0\n",
    "    \n",
    "    for individual in sorted_population:\n",
    "        fitness = apply_function(individual) + offset\n",
    "        probability = fitness / normalized_fitness_sum\n",
    "        accumulated += probability\n",
    "        if draw <= accumulated:\n",
    "            return individual"
   ]
  },
  {
   "cell_type": "code",
   "execution_count": 5,
   "metadata": {
    "colab": {},
    "colab_type": "code",
    "id": "K1ulTm4arpqU"
   },
   "outputs": [],
   "source": [
    "def sort_population_by_fitness(population):\n",
    "    return sorted(population, key=apply_function)\n",
    "\n",
    "def crossover(individual_a, individual_b):\n",
    "    xa = individual_a[\"x\"]\n",
    "    ya = individual_a[\"y\"]\n",
    "    xb = individual_b[\"x\"]\n",
    "    yb = individual_b[\"y\"]\n",
    "    return {\"x\": (xa + xb) / 2, \"y\": (ya + yb) / 2}\n",
    "\n",
    "def mutate(individual):\n",
    "    next_x = individual[\"x\"] + random.uniform(-0.05, 0.05)\n",
    "    next_y = individual[\"y\"] + random.uniform(-0.05, 0.05)\n",
    "\n",
    "    lower_boundary, upper_boundary = (-4, 4)\n",
    "    next_x = min(max(next_x, lower_boundary), upper_boundary)\n",
    "    next_y = min(max(next_y, lower_boundary), upper_boundary)\n",
    "\n",
    "    return {\"x\": next_x, \"y\": next_y}"
   ]
  },
  {
   "cell_type": "code",
   "execution_count": 6,
   "metadata": {
    "colab": {},
    "colab_type": "code",
    "id": "TSssLe5RnQiq"
   },
   "outputs": [],
   "source": [
    "def make_next_generation(previous_population):\n",
    "    next_generation = []\n",
    "    sorted_by_fitness_population = sort_population_by_fitness(previous_population)\n",
    "    population_size = len(previous_population)\n",
    "    fitness_sum = sum(apply_function(individual) for individual in population)\n",
    "\n",
    "    for i in range(population_size):\n",
    "        first_choice = choice_by_roulette(sorted_by_fitness_population, fitness_sum)\n",
    "        second_choice = choice_by_roulette(sorted_by_fitness_population, fitness_sum)\n",
    "        individual = crossover(first_choice, second_choice)\n",
    "        individual = mutate(individual)\n",
    "        next_generation.append(individual)\n",
    "    return next_generation"
   ]
  },
  {
   "cell_type": "code",
   "execution_count": 7,
   "metadata": {
    "colab": {
     "base_uri": "https://localhost:8080/",
     "height": 51
    },
    "colab_type": "code",
    "executionInfo": {
     "elapsed": 1115,
     "status": "ok",
     "timestamp": 1588261678046,
     "user": {
      "displayName": "Agustin Silva",
      "photoUrl": "https://lh3.googleusercontent.com/a-/AOh14GhgpjJZgyA4TkTu5mXdEC-5weN-lfBTLa4rLTNm6g=s64",
      "userId": "15990170622455663972"
     },
     "user_tz": 180
    },
    "id": "kOaevSjqruCu",
    "outputId": "b0d17182-59ed-4c72-ea06-fa17c766d84c"
   },
   "outputs": [
    {
     "name": "stdout",
     "output_type": "stream",
     "text": [
      "Fitness promedio: 24.354391545087886\n",
      "Fitness final: 24.40706011211182\n"
     ]
    }
   ],
   "source": [
    "generations = 1000\n",
    "population = generate_population(size=10, x_boundaries=(-5, 5), y_boundaries=(-5, 5))\n",
    "\n",
    "i = 1\n",
    "while True:\n",
    "    #####IMPRIMIR CADA UNO DE LOS INDIVIDUOS DE UNA GENERACIÓN CON SU FITNESS#####\n",
    "    #for individual in population:\n",
    "    #    print(\"Generación\",i,\":\",individual, apply_function(individual))\n",
    "\n",
    "    #####IMPRIMIR EL FITNESS DEL MEJOR INDIVIDUO EN CADA GENERACIÓN#####\n",
    "    #best_parcial_individual = sort_population_by_fitness(population)[-1]\n",
    "    #print(\"Generación:\",i,\". Mejor Fitness:\",apply_function(best_parcial_individual))\n",
    "\n",
    "    #####IMPRIMIR EL PROMEDIO DEL FITNESS DE TODA LA POBLACIÓN#####\n",
    "    #fitness = []\n",
    "    #for individual in population:\n",
    "    #  fitness_case = apply_function(individual)\n",
    "    #  fitness.append(fitness_case)\n",
    "    #fit_ave = sum(fitness) / len(fitness)\n",
    "    #print(\"Fitness promedio de generación\",i,\":\",fit_ave)\n",
    "\n",
    "    if i == generations:\n",
    "        break\n",
    "    i += 1\n",
    "    population = make_next_generation(population)\n",
    "\n",
    "#####IMPRIMIR EL PROMEDIO DEL FITNESS DE TODA LA POBLACIÓN#####\n",
    "fitness = []\n",
    "for individual in population:\n",
    "  fitness_case = apply_function(individual)\n",
    "  fitness.append(fitness_case)\n",
    "print(\"Fitness promedio:\",sum(fitness) / len(fitness))\n",
    "\n",
    "#####IMPRIMIR EL FITNESS DEL MEJOR INVIDUO LUEGO DE TODAS LAS GENERACIONES#####\n",
    "best_individual = sort_population_by_fitness(population)[-1]\n",
    "print(\"Fitness final:\", apply_function(best_individual))"
   ]
  },
  {
   "cell_type": "code",
   "execution_count": 0,
   "metadata": {
    "colab": {},
    "colab_type": "code",
    "id": "fzL7zP0Ux8kT"
   },
   "outputs": [],
   "source": []
  }
 ],
 "metadata": {
  "colab": {
   "authorship_tag": "ABX9TyNQ9+pNSQa2/H0cWNHbGQO/",
   "name": "ga.ipynb",
   "provenance": []
  },
  "kernelspec": {
   "display_name": "Python 3 (ipykernel)",
   "language": "python",
   "name": "python3"
  },
  "language_info": {
   "codemirror_mode": {
    "name": "ipython",
    "version": 3
   },
   "file_extension": ".py",
   "mimetype": "text/x-python",
   "name": "python",
   "nbconvert_exporter": "python",
   "pygments_lexer": "ipython3",
   "version": "3.9.7"
  }
 },
 "nbformat": 4,
 "nbformat_minor": 1
}
