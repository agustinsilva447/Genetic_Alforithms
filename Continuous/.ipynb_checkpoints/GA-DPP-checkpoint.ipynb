{
 "cells": [
  {
   "cell_type": "code",
   "execution_count": 1,
   "id": "9b6818e5",
   "metadata": {},
   "outputs": [],
   "source": [
    "from deap import base\n",
    "from deap import creator\n",
    "from deap import tools\n",
    "\n",
    "import random\n",
    "import numpy as np\n",
    "import math\n",
    "import matplotlib.pyplot as plt\n",
    "import seaborn as sns\n",
    "import elitism\n",
    "import pandas"
   ]
  },
  {
   "cell_type": "code",
   "execution_count": 2,
   "id": "75e8c897",
   "metadata": {},
   "outputs": [],
   "source": [
    "#plt.plot(x,function)\n",
    "#plt.show()\n",
    "\n",
    "#plt.plot(x,np.power(function,2))\n",
    "#plt.plot(x,np.power([i*function[i] for i in range(len(function))],2))\n",
    "#plt.show()\n",
    "\n",
    "#plt.plot([(function[i]*function[j]*ACF(np.abs(i-j))) for i in range(len(function)) for j in range(len(function))])\n",
    "#plt.show()\n",
    "\n",
    "#plt.plot(y,pulse)\n",
    "#plt.plot()\n",
    "\n",
    "#plt.plot(np.convolve(pulse, function))\n",
    "#plt.show()"
   ]
  },
  {
   "cell_type": "code",
   "execution_count": 3,
   "id": "7328491e",
   "metadata": {},
   "outputs": [
    {
     "data": {
      "text/plain": [
       "'\\nx = np.arange(0,80)\\na = randomFloat(0,80)\\nfunction = -(x-a[0])*(x-a[1])*(x-a[2])*(x-a[3])*(x-a[4])\\ny = np.arange(0,512)\\npulse = [(10 + i*0.1307 + 104*(2*(1-np.power(np.e, (194-i)/27.2))-(1-np.power(np.e, (194-i)/13.6)))) if (i>194) else (10 + i*0.1307) for i in y]\\n\\nf0 = np.sum(np.power(function,2))\\nf1 = np.sum(np.power([i*function[i] for i in range(len(function))],2))\\nf2 = np.sum([(function[i]*function[j]*ACF(np.abs(i-j))) for i in range(len(function)) for j in range(len(function))])\\nf3 = np.sum(np.convolve(pulse, function) - 104) * np.power(10,5)\\n\\nprint(a)\\nprint(f0)\\nprint(f1)\\nprint(f2)\\nprint(f3)\\n'"
      ]
     },
     "execution_count": 3,
     "metadata": {},
     "output_type": "execute_result"
    }
   ],
   "source": [
    "\"\"\"\n",
    "x = np.arange(0,80)\n",
    "a = randomFloat(0,80)\n",
    "function = -(x-a[0])*(x-a[1])*(x-a[2])*(x-a[3])*(x-a[4])\n",
    "y = np.arange(0,512)\n",
    "pulse = [(10 + i*0.1307 + 104*(2*(1-np.power(np.e, (194-i)/27.2))-(1-np.power(np.e, (194-i)/13.6)))) if (i>194) else (10 + i*0.1307) for i in y]\n",
    "\n",
    "f0 = np.sum(np.power(function,2))\n",
    "f1 = np.sum(np.power([i*function[i] for i in range(len(function))],2))\n",
    "f2 = np.sum([(function[i]*function[j]*ACF(np.abs(i-j))) for i in range(len(function)) for j in range(len(function))])\n",
    "f3 = np.sum(np.convolve(pulse, function) - 104) * np.power(10,5)\n",
    "\n",
    "print(a)\n",
    "print(f0)\n",
    "print(f1)\n",
    "print(f2)\n",
    "print(f3)\n",
    "\"\"\""
   ]
  },
  {
   "cell_type": "code",
   "execution_count": 4,
   "id": "494a41b1",
   "metadata": {},
   "outputs": [],
   "source": [
    "#data = pandas.read_csv(\"001_Mn_1x1mm_fastspectrum_2015-09-17_15-47-raw.csv\", delimiter='\\t', engine='python', dtype='int', skip_blank_lines=True, usecols= ['CH4'])\n",
    "#data.info()"
   ]
  },
  {
   "cell_type": "code",
   "execution_count": 5,
   "id": "f1d3b532",
   "metadata": {},
   "outputs": [],
   "source": [
    "def randomFloat(low, up):\n",
    "    return [random.uniform(l, u) for l, u in zip([low] * DIMENSIONS, [up] * DIMENSIONS)]\n",
    "\n",
    "def ACF(x):\n",
    "    alfa = 0.965\n",
    "    off = 0.2\n",
    "    if x == 0:\n",
    "        return 1\n",
    "    else:\n",
    "        return (np.power(alfa,x) - off)\n",
    "\n",
    "def dpp(individual):\n",
    "    a0 = individual[0]\n",
    "    a1 = individual[1]\n",
    "    a2 = individual[2]\n",
    "    a3 = individual[3]\n",
    "    a4 = individual[4]\n",
    "    \n",
    "    B0  = 10\n",
    "    B1  = 0.1307\n",
    "    A   = 104\n",
    "    t0  = 194\n",
    "    tau = 13.6\n",
    "    \n",
    "    ranx = 80\n",
    "    x = np.arange(1,ranx+1)\n",
    "    function = -(x-a0)*(x-a1)*(x-a2)*(x-a3)*(x-a4)\n",
    "    \n",
    "    rany = 512\n",
    "    y = np.arange(1,rany+1)\n",
    "    pulse = [(B0 + i*B1 + A*(2*(1-np.power(np.e, -(i-t0)/(2*tau)))-(1-np.power(np.e, -(i-t0)/tau)))) if (i>194) else (B0 + i*B1) for i in y]\n",
    "    \n",
    "    f0 = np.sum(np.power(function,2))\n",
    "    f1 = np.sum(np.power([i*function[i] for i in range(len(function))],2))\n",
    "    f2 = np.sum([(function[i]*function[j]*ACF(np.abs(i-j))) for i in range(len(function)) for j in range(len(function))])\n",
    "    f3 = np.power(10,5) * np.sum(np.abs(np.convolve(pulse, function)[194:220] - 104))\n",
    "    f = f0+f1+f2+f3\n",
    "    return -f, "
   ]
  },
  {
   "cell_type": "code",
   "execution_count": 6,
   "id": "b17ccbfc",
   "metadata": {},
   "outputs": [],
   "source": [
    "DIMENSIONS = 5\n",
    "BOUND_LOW, BOUND_UP = 1, 80\n",
    "POPULATION_SIZE = 300\n",
    "P_CROSSOVER = 0.8 \n",
    "P_MUTATION = 0.2  \n",
    "MAX_GENERATIONS = 20\n",
    "HALL_OF_FAME_SIZE = 30\n",
    "CROWDING_FACTOR = 20.0 "
   ]
  },
  {
   "cell_type": "code",
   "execution_count": 7,
   "id": "7e9ad09c",
   "metadata": {},
   "outputs": [],
   "source": [
    "toolbox = base.Toolbox()\n",
    "creator.create(\"FitnessMin\", base.Fitness, weights=(1.0,))\n",
    "creator.create(\"Individual\", list, fitness=creator.FitnessMin)\n",
    "toolbox.register(\"attrFloat\", randomFloat, BOUND_LOW, BOUND_UP)\n",
    "toolbox.register(\"individualCreator\", tools.initIterate, creator.Individual, toolbox.attrFloat)\n",
    "toolbox.register(\"populationCreator\", tools.initRepeat, list, toolbox.individualCreator)\n",
    "toolbox.register(\"evaluate\", dpp)\n",
    "toolbox.register(\"select\", tools.selTournament, tournsize=2)\n",
    "toolbox.register(\"mate\", tools.cxSimulatedBinaryBounded, low=BOUND_LOW, up=BOUND_UP, eta=CROWDING_FACTOR)\n",
    "toolbox.register(\"mutate\", tools.mutPolynomialBounded, low=BOUND_LOW, up=BOUND_UP, eta=CROWDING_FACTOR, indpb=1.0/DIMENSIONS)"
   ]
  },
  {
   "cell_type": "code",
   "execution_count": 8,
   "id": "73099630",
   "metadata": {},
   "outputs": [],
   "source": [
    "population = toolbox.populationCreator(n=POPULATION_SIZE)\n",
    "stats = tools.Statistics(lambda ind: ind.fitness.values)\n",
    "stats.register(\"min\", np.min)\n",
    "stats.register(\"avg\", np.mean)\n",
    "hof = tools.HallOfFame(HALL_OF_FAME_SIZE)\n",
    "population, logbook = elitism.eaSimpleWithElitism(population, toolbox, cxpb=P_CROSSOVER, mutpb=P_MUTATION, ngen=MAX_GENERATIONS, stats=stats, halloffame=hof, verbose=False)\n",
    "minFitnessValues, meanFitnessValues = logbook.select(\"min\", \"avg\")"
   ]
  },
  {
   "cell_type": "code",
   "execution_count": 9,
   "id": "9bbea878",
   "metadata": {},
   "outputs": [
    {
     "name": "stdout",
     "output_type": "stream",
     "text": [
      "-- Best Individual =  [10.84062181 29.21423831 48.91363003 66.50661719 77.46867751]\n",
      "-- Best Fitness =  -7.53634012645067e+17\n"
     ]
    }
   ],
   "source": [
    "best = hof.items[0]\n",
    "print(\"-- Best Individual = \", np.sort(np.array(best)))\n",
    "print(\"-- Best Fitness = \", best.fitness.values[0])"
   ]
  },
  {
   "cell_type": "code",
   "execution_count": 10,
   "id": "8480b5ec",
   "metadata": {},
   "outputs": [
    {
     "data": {
      "image/png": "[encoded data removed]",
      "text/plain": [
       "<Figure size 432x288 with 1 Axes>"
      ]
     },
     "metadata": {},
     "output_type": "display_data"
    }
   ],
   "source": [
    "sns.set_style(\"whitegrid\")\n",
    "plt.plot(minFitnessValues, color='red')\n",
    "plt.plot(meanFitnessValues, color='green')\n",
    "plt.xlabel('Generation')\n",
    "plt.ylabel('Min / Average Fitness')\n",
    "plt.title('Min and Average fitness over Generations')\n",
    "\n",
    "plt.show()"
   ]
  },
  {
   "cell_type": "code",
   "execution_count": 11,
   "id": "e8385fe9",
   "metadata": {},
   "outputs": [
    {
     "data": {
      "image/png": "[encoded data removed]",
      "text/plain": [
       "<Figure size 432x288 with 1 Axes>"
      ]
     },
     "metadata": {},
     "output_type": "display_data"
    }
   ],
   "source": [
    "x = np.arange(1,81)\n",
    "a = best\n",
    "function = -(x-a[0])*(x-a[1])*(x-a[2])*(x-a[3])*(x-a[4])\n",
    "plt.plot(x,function)\n",
    "plt.show()"
   ]
  },
  {
   "cell_type": "code",
   "execution_count": 12,
   "id": "5273b170",
   "metadata": {},
   "outputs": [
    {
     "data": {
      "image/png": "[encoded data removed]",
      "text/plain": [
       "<Figure size 432x288 with 1 Axes>"
      ]
     },
     "metadata": {},
     "output_type": "display_data"
    }
   ],
   "source": [
    "y = np.arange(1,513)\n",
    "pulse = [(10 + i*0.1307 + 104*(2*(1-np.power(np.e, (194-i)/27.2))-(1-np.power(np.e, (194-i)/13.6)))) if (i>194) else (10 + i*0.1307) for i in y]\n",
    "con = np.convolve(pulse, function)\n",
    "plt.plot(con)\n",
    "plt.show()"
   ]
  }
 ],
 "metadata": {
  "kernelspec": {
   "display_name": "Python 3 (ipykernel)",
   "language": "python",
   "name": "python3"
  },
  "language_info": {
   "codemirror_mode": {
    "name": "ipython",
    "version": 3
   },
   "file_extension": ".py",
   "mimetype": "text/x-python",
   "name": "python",
   "nbconvert_exporter": "python",
   "pygments_lexer": "ipython3",
   "version": "3.9.7"
  }
 },
 "nbformat": 4,
 "nbformat_minor": 5
}
