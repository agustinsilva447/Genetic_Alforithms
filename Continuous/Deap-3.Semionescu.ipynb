{
 "cells": [
  {
   "cell_type": "code",
   "execution_count": 1,
   "metadata": {
    "colab": {
     "base_uri": "https://localhost:8080/",
     "height": 51
    },
    "colab_type": "code",
    "executionInfo": {
     "elapsed": 4278,
     "status": "ok",
     "timestamp": 1588563975744,
     "user": {
      "displayName": "Agustin Silva",
      "photoUrl": "https://lh3.googleusercontent.com/a-/AOh14GhgpjJZgyA4TkTu5mXdEC-5weN-lfBTLa4rLTNm6g=s64",
      "userId": "15990170622455663972"
     },
     "user_tz": 180
    },
    "id": "wrbBT0kbqzjd",
    "outputId": "2d63c0df-0934-4a45-b9b6-c30bdad08ce0"
   },
   "outputs": [
    {
     "name": "stdout",
     "output_type": "stream",
     "text": [
      "Requirement already satisfied: deap in c:\\users\\mlabadm\\appdata\\local\\programs\\python\\python39\\lib\\site-packages (1.3.1)\n",
      "Requirement already satisfied: numpy in c:\\users\\mlabadm\\appdata\\local\\programs\\python\\python39\\lib\\site-packages (from deap) (1.21.2)\n"
     ]
    },
    {
     "name": "stderr",
     "output_type": "stream",
     "text": [
      "WARNING: You are using pip version 21.2.4; however, version 21.3.1 is available.\n",
      "You should consider upgrading via the 'C:\\Users\\mlabadm\\AppData\\Local\\Programs\\Python\\Python39\\python.exe -m pip install --upgrade pip' command.\n"
     ]
    }
   ],
   "source": [
    "!pip install deap"
   ]
  },
  {
   "cell_type": "code",
   "execution_count": 2,
   "metadata": {
    "colab": {
     "base_uri": "https://localhost:8080/",
     "height": 71
    },
    "colab_type": "code",
    "executionInfo": {
     "elapsed": 4703,
     "status": "ok",
     "timestamp": 1588563976193,
     "user": {
      "displayName": "Agustin Silva",
      "photoUrl": "https://lh3.googleusercontent.com/a-/AOh14GhgpjJZgyA4TkTu5mXdEC-5weN-lfBTLa4rLTNm6g=s64",
      "userId": "15990170622455663972"
     },
     "user_tz": 180
    },
    "id": "Sl5s9o0JuaXt",
    "outputId": "dbb457fc-e9d3-4624-b0d9-f744ed7ef19f"
   },
   "outputs": [],
   "source": [
    "from deap import base\n",
    "from deap import creator\n",
    "from deap import tools\n",
    "\n",
    "import random\n",
    "import numpy as np\n",
    "import math\n",
    "import matplotlib.pyplot as plt\n",
    "import seaborn as sns\n",
    "import elitism"
   ]
  },
  {
   "cell_type": "code",
   "execution_count": 3,
   "metadata": {
    "colab": {},
    "colab_type": "code",
    "id": "Oy6JXgoMuf7U"
   },
   "outputs": [],
   "source": [
    "RANDOM_SEED = 42\n",
    "random.seed(RANDOM_SEED)\n",
    "\n",
    "DIMENSIONS = 2  # number of dimensions\n",
    "BOUND_LOW, BOUND_UP = -1.25, 1.25  # boundaries for all dimensions\n",
    "POPULATION_SIZE = 300\n",
    "P_CROSSOVER = 0.9  # probability for crossover\n",
    "P_MUTATION = 0.5  #0.1   # (try also 0.5) probability for mutating an individual\n",
    "MAX_GENERATIONS = 300\n",
    "HALL_OF_FAME_SIZE = 30\n",
    "CROWDING_FACTOR = 20.0  # crowding factor for crossover and mutation\n",
    "PENALTY_VALUE = 10.0    # fixed penalty for violating a constraint\n",
    "DISTANCE_THRESHOLD = 0.5"
   ]
  },
  {
   "cell_type": "code",
   "execution_count": 4,
   "metadata": {
    "colab": {},
    "colab_type": "code",
    "id": "o5FFQHAJu0__"
   },
   "outputs": [],
   "source": [
    "def randomFloat(low, up):\n",
    "    return [random.uniform(l, u) for l, u in zip([low] * DIMENSIONS, [up] * DIMENSIONS)]\n",
    "\n",
    "def simionescu(individual):\n",
    "    x = individual[0]\n",
    "    y = individual[1]\n",
    "    f = 0.1 * x * y\n",
    "    return f,  # return a tuple\n",
    "\n",
    "def feasible(individual):\n",
    "    \"\"\"Feasibility function for the individual.\n",
    "    Returns True if feasible, False otherwise.\n",
    "    \"\"\"\n",
    "    x = individual[0]\n",
    "    y = individual[1]\n",
    "\n",
    "    # original constraint:\n",
    "    if x**2 + y**2 > (1 + 0.2 * math.cos(8.0 * math.atan2(x, y)))**2:\n",
    "        return False\n",
    "\n",
    "    # previously found solution as an additional constraint:\n",
    "    elif (x - 0.848)**2 + (y + 0.848)**2 < DISTANCE_THRESHOLD**2:\n",
    "        return False\n",
    "        \n",
    "    else:\n",
    "        return True"
   ]
  },
  {
   "cell_type": "code",
   "execution_count": 5,
   "metadata": {
    "colab": {},
    "colab_type": "code",
    "id": "JdCxpur9u7O3"
   },
   "outputs": [],
   "source": [
    "toolbox = base.Toolbox()\n",
    "creator.create(\"FitnessMin\", base.Fitness, weights=(-1.0,))\n",
    "creator.create(\"Individual\", list, fitness=creator.FitnessMin)\n",
    "\n",
    "toolbox.register(\"attrFloat\", randomFloat, BOUND_LOW, BOUND_UP)\n",
    "toolbox.register(\"individualCreator\", tools.initIterate, creator.Individual, toolbox.attrFloat)\n",
    "toolbox.register(\"populationCreator\", tools.initRepeat, list, toolbox.individualCreator)\n",
    "toolbox.register(\"select\", tools.selTournament, tournsize=2)\n",
    "toolbox.register(\"mate\", tools.cxSimulatedBinaryBounded, low=BOUND_LOW, up=BOUND_UP, eta=CROWDING_FACTOR)\n",
    "toolbox.register(\"mutate\", tools.mutPolynomialBounded, low=BOUND_LOW, up=BOUND_UP, eta=CROWDING_FACTOR, indpb=1.0/DIMENSIONS)\n",
    "toolbox.register(\"evaluate\", simionescu)\n",
    "toolbox.decorate(\"evaluate\", tools.DeltaPenalty(feasible, PENALTY_VALUE))"
   ]
  },
  {
   "cell_type": "code",
   "execution_count": 6,
   "metadata": {
    "colab": {},
    "colab_type": "code",
    "id": "QpBhPki6reJP"
   },
   "outputs": [],
   "source": [
    "population = toolbox.populationCreator(n=POPULATION_SIZE)\n",
    "stats = tools.Statistics(lambda ind: ind.fitness.values)\n",
    "stats.register(\"min\", np.min)\n",
    "stats.register(\"avg\", np.mean)\n",
    "hof = tools.HallOfFame(HALL_OF_FAME_SIZE)\n",
    "population, logbook = elitism.eaSimpleWithElitism(population, toolbox, cxpb=P_CROSSOVER, mutpb=P_MUTATION,\n",
    "                                          ngen=MAX_GENERATIONS, stats=stats, halloffame=hof, verbose=False)\n",
    "minFitnessValues, meanFitnessValues = logbook.select(\"min\", \"avg\")"
   ]
  },
  {
   "cell_type": "code",
   "execution_count": 7,
   "metadata": {
    "colab": {},
    "colab_type": "code",
    "id": "u08a1LuMvOZV"
   },
   "outputs": [
    {
     "name": "stdout",
     "output_type": "stream",
     "text": [
      "- Best solutions are:\n",
      "0 :  -0.07199999837868692  ->  [-0.8484923517621854, 0.8485639054866462]\n",
      "1 :  -0.07199999837868692  ->  [-0.8484923517621853, 0.8485639054866462]\n",
      "2 :  -0.07199999837868684  ->  [-0.8484923517621844, 0.8485639054866462]\n",
      "3 :  -0.07199999837868684  ->  [-0.8484923517621845, 0.8485639054866462]\n",
      "4 :  -0.07199999837868681  ->  [-0.8484923517621841, 0.8485639054866462]\n",
      "5 :  -0.07199999837868677  ->  [-0.8484923517621835, 0.8485639054866462]\n",
      "6 :  -0.07199999837868676  ->  [-0.8484923517621834, 0.8485639054866462]\n",
      "7 :  -0.07199999837868672  ->  [-0.848492351762183, 0.8485639054866462]\n",
      "8 :  -0.07199999837868669  ->  [-0.8484923517621823, 0.8485639054866465]\n",
      "9 :  -0.07199999837868669  ->  [-0.8484923517621826, 0.8485639054866462]\n"
     ]
    }
   ],
   "source": [
    "print(\"- Best solutions are:\")\n",
    "for i in range(HALL_OF_FAME_SIZE - 20):\n",
    "    print(i, \": \", hof.items[i].fitness.values[0], \" -> \", hof.items[i])"
   ]
  },
  {
   "cell_type": "code",
   "execution_count": 8,
   "metadata": {
    "colab": {},
    "colab_type": "code",
    "id": "_a-b0veAr9u7"
   },
   "outputs": [
    {
     "data": {
      "image/png": "[encoded data removed]",
      "text/plain": [
       "<Figure size 432x288 with 1 Axes>"
      ]
     },
     "metadata": {},
     "output_type": "display_data"
    }
   ],
   "source": [
    "sns.set_style(\"whitegrid\")\n",
    "plt.plot(minFitnessValues, color='red')\n",
    "plt.plot(meanFitnessValues, color='green')\n",
    "plt.xlabel('Generation')\n",
    "plt.ylabel('Min / Average Fitness')\n",
    "plt.title('Min and Average fitness over Generations')\n",
    "\n",
    "plt.show()"
   ]
  },
  {
   "cell_type": "code",
   "execution_count": null,
   "metadata": {
    "colab": {},
    "colab_type": "code",
    "id": "eMvATlunxvED"
   },
   "outputs": [],
   "source": []
  }
 ],
 "metadata": {
  "colab": {
   "authorship_tag": "ABX9TyMf2TOlaADvHDIzkiu+H+x2",
   "name": "ga_python_10.ipynb",
   "provenance": []
  },
  "kernelspec": {
   "display_name": "Python 3 (ipykernel)",
   "language": "python",
   "name": "python3"
  },
  "language_info": {
   "codemirror_mode": {
    "name": "ipython",
    "version": 3
   },
   "file_extension": ".py",
   "mimetype": "text/x-python",
   "name": "python",
   "nbconvert_exporter": "python",
   "pygments_lexer": "ipython3",
   "version": "3.9.7"
  }
 },
 "nbformat": 4,
 "nbformat_minor": 1
}
